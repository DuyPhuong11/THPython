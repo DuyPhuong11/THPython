{
  "nbformat": 4,
  "nbformat_minor": 0,
  "metadata": {
    "colab": {
      "name": "alkaline_metals.txt",
      "provenance": [],
      "authorship_tag": "ABX9TyNk9rlMvmDT0pqoKmIN7p8I",
      "include_colab_link": true
    },
    "kernelspec": {
      "name": "python3",
      "display_name": "Python 3"
    },
    "language_info": {
      "name": "python"
    }
  },
  "cells": [
    {
      "cell_type": "markdown",
      "metadata": {
        "id": "view-in-github",
        "colab_type": "text"
      },
      "source": [
        "<a href=\"https://colab.research.google.com/github/DuyPhuong11/THPython/blob/main/Lab03/alkaline_metals_txt.ipynb\" target=\"_parent\"><img src=\"https://colab.research.google.com/assets/colab-badge.svg\" alt=\"Open In Colab\"/></a>"
      ]
    },
    {
      "cell_type": "code",
      "metadata": {
        "id": "iwt5w6o7wtPo"
      },
      "source": [
        "beryllium 4 9.012\n",
        "magnesium 12 24.305\n",
        "calcium 20 20.078\n",
        "strontium 38 87.62\n",
        "barium 56 137.327\n",
        "radium 88 226"
      ],
      "execution_count": null,
      "outputs": []
    }
  ]
}