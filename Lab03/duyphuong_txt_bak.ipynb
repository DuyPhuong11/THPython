{
  "nbformat": 4,
  "nbformat_minor": 0,
  "metadata": {
    "colab": {
      "name": "duyphuong.txt.bak",
      "provenance": [],
      "authorship_tag": "ABX9TyMKYEeXKIl+aneO/FhC3LxI",
      "include_colab_link": true
    },
    "kernelspec": {
      "name": "python3",
      "display_name": "Python 3"
    },
    "language_info": {
      "name": "python"
    }
  },
  "cells": [
    {
      "cell_type": "markdown",
      "metadata": {
        "id": "view-in-github",
        "colab_type": "text"
      },
      "source": [
        "<a href=\"https://colab.research.google.com/github/DuyPhuong11/THPython/blob/main/Lab03/duyphuong_txt_bak.ipynb\" target=\"_parent\"><img src=\"https://colab.research.google.com/assets/colab-badge.svg\" alt=\"Open In Colab\"/></a>"
      ]
    },
    {
      "cell_type": "markdown",
      "metadata": {
        "id": "uQ21g4Ouuxj9"
      },
      "source": [
        "1. Do Nguyen Duy Phuong \n"
      ]
    },
    {
      "cell_type": "markdown",
      "metadata": {
        "id": "KESfQ4EJvM3Y"
      },
      "source": [
        "2. TP.HCM"
      ]
    },
    {
      "cell_type": "markdown",
      "metadata": {
        "id": "dmkq399NvOuP"
      },
      "source": [
        "3. CNTT"
      ]
    },
    {
      "cell_type": "markdown",
      "metadata": {
        "id": "sIGHbi08vPuv"
      },
      "source": [
        "4. 21"
      ]
    }
  ]
}