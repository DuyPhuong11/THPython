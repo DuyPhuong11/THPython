{
  "nbformat": 4,
  "nbformat_minor": 0,
  "metadata": {
    "colab": {
      "name": "Lab03_Chapter10.ipynb",
      "provenance": [],
      "authorship_tag": "ABX9TyP0IlMEF0cuoHP1M9WtqgvL",
      "include_colab_link": true
    },
    "kernelspec": {
      "name": "python3",
      "display_name": "Python 3"
    },
    "language_info": {
      "name": "python"
    }
  },
  "cells": [
    {
      "cell_type": "markdown",
      "metadata": {
        "id": "view-in-github",
        "colab_type": "text"
      },
      "source": [
        "<a href=\"https://colab.research.google.com/github/DuyPhuong11/THPython/blob/main/Lab03/Lab03_Chapter10.ipynb\" target=\"_parent\"><img src=\"https://colab.research.google.com/assets/colab-badge.svg\" alt=\"Open In Colab\"/></a>"
      ]
    },
    {
      "cell_type": "markdown",
      "metadata": {
        "id": "0pN1ms-FmuPY"
      },
      "source": [
        "Bài 1:"
      ]
    },
    {
      "cell_type": "code",
      "metadata": {
        "colab": {
          "base_uri": "https://localhost:8080/"
        },
        "id": "T1M5VPy-mvOX",
        "outputId": "b74890bc-83b9-40bc-f316-ebf6f5f5512b"
      },
      "source": [
        "filename = input('Which file would you like to back-up? ')\n",
        "new_filename = filename + '.bak'\n",
        "backup = open(new_filename, 'w')\n",
        "\n",
        "for line in open(filename):\n",
        " backup.write(line)\n",
        " \n",
        "backup.close()"
      ],
      "execution_count": 2,
      "outputs": [
        {
          "name": "stdout",
          "output_type": "stream",
          "text": [
            "Which file would you like to back-up? /content/sample_data/duyphuong.txt\n"
          ]
        }
      ]
    },
    {
      "cell_type": "markdown",
      "metadata": {
        "id": "RMIYKE4im0Qn"
      },
      "source": [
        "Bài 2:"
      ]
    },
    {
      "cell_type": "code",
      "metadata": {
        "colab": {
          "base_uri": "https://localhost:8080/"
        },
        "id": "xbgb6R2Am1Qx",
        "outputId": "25452c28-dd7f-4215-f242-47014ca34bbb"
      },
      "source": [
        "alkaline_metals = []\n",
        "for line in open('/content/sample_data/alkaline_metals.txt'):\n",
        " alkaline_metals.append(line.strip().split(' '))\n",
        "print(alkaline_metals)"
      ],
      "execution_count": 3,
      "outputs": [
        {
          "output_type": "stream",
          "name": "stdout",
          "text": [
            "[['beryllium', '4', '9.012'], ['magnesium', '12', '24.305'], ['calcium', '20', '20.078'], ['strontium', '38', '87.62'], ['barium', '56', '137.327'], ['radium', '88', '226']]\n"
          ]
        }
      ]
    },
    {
      "cell_type": "markdown",
      "metadata": {
        "id": "bWELkqI9m7Q4"
      },
      "source": [
        "Bài 3:"
      ]
    },
    {
      "cell_type": "code",
      "metadata": {
        "colab": {
          "base_uri": "https://localhost:8080/"
        },
        "id": "RFdeJ-g9m8J3",
        "outputId": "2cc8265e-8124-4fdd-b88f-86fd476c2d2c"
      },
      "source": [
        "content = []\n",
        "for line in open('/content/sample_data/duyphuong.txt'):\n",
        "    content.append(line)\n",
        "print('Doc nguoc file :\\n ',)\n",
        "for line in reversed(content):\n",
        "    print(line)"
      ],
      "execution_count": 4,
      "outputs": [
        {
          "output_type": "stream",
          "name": "stdout",
          "text": [
            "Doc nguoc file :\n",
            " \n",
            "21\n",
            "CNTT\n",
            "\n",
            "TP.HCM\n",
            "\n",
            "Do Nguyen Duy Phuong\n",
            "\n"
          ]
        }
      ]
    },
    {
      "cell_type": "markdown",
      "metadata": {
        "id": "hyPHGPbbnBZM"
      },
      "source": [
        "Bài 4:"
      ]
    },
    {
      "cell_type": "code",
      "metadata": {
        "colab": {
          "base_uri": "https://localhost:8080/"
        },
        "id": "3xoEbGvznCSw",
        "outputId": "4d4cbeac-c505-4b1f-ce02-f33717ba191d"
      },
      "source": [
        "def skip_header(reader):\n",
        "    \n",
        "    # Read the description line and then the comment lines.\n",
        "    line = reader.readline()    \n",
        "    line = reader.readline()\n",
        "    while line.startswith('#'):\n",
        "        line = reader.readline() \n",
        "    # Now line contains the first real piece of data.\n",
        "    return line\n",
        "\n",
        "def process_file(reader):\n",
        "    # Find the first piece of data.\n",
        "    line = skip_header(reader).strip()\n",
        "    print(line)\n",
        "    # Read the rest of the data.\n",
        "    for line in reader:\n",
        "        line = line.strip()\n",
        "        print(line)\n",
        "\n",
        "input_file = open('/content/sample_data/duyphuong.txt', 'r')\n",
        "process_file(input_file)\n",
        "input_file.close()"
      ],
      "execution_count": 5,
      "outputs": [
        {
          "output_type": "stream",
          "name": "stdout",
          "text": [
            "TP.HCM\n",
            "CNTT\n",
            "21\n"
          ]
        }
      ]
    },
    {
      "cell_type": "markdown",
      "metadata": {
        "id": "1QbvzbG1nIWA"
      },
      "source": [
        "Bài 5:"
      ]
    },
    {
      "cell_type": "code",
      "metadata": {
        "colab": {
          "base_uri": "https://localhost:8080/"
        },
        "id": "QGQuP_JenJXH",
        "outputId": "476d67e3-7b19-4d21-cb66-1d5b68c92d99"
      },
      "source": [
        "def smallest_value_skip(reader):\n",
        "    line = skip_header(reader).strip()\n",
        "    # Only execute this code, if there is data following the header.\n",
        "    if line != '':\n",
        "        smallest = line\n",
        "    for line in reader:\n",
        "        line = line.strip()\n",
        "        if line != '-':\n",
        "            value = line\n",
        "            smallest = min(smallest, value)\n",
        "    return smallest\n",
        "\n",
        "input_file = open('/content/sample_data/duyphuong.txt', 'r')\n",
        "print(smallest_value_skip(input_file))\n",
        "input_file.close()"
      ],
      "execution_count": 6,
      "outputs": [
        {
          "output_type": "stream",
          "name": "stdout",
          "text": [
            "21\n"
          ]
        }
      ]
    },
    {
      "cell_type": "markdown",
      "metadata": {
        "id": "FZjpIDQqnN-_"
      },
      "source": [
        "Bài 6:"
      ]
    },
    {
      "cell_type": "code",
      "metadata": {
        "colab": {
          "base_uri": "https://localhost:8080/"
        },
        "id": "qlYRzrTunO_g",
        "outputId": "dc170891-8758-4d79-ff0d-935b5d4cad20"
      },
      "source": [
        "def smallest_value_skip2(reader):\n",
        "    line = skip_header(reader).strip()\n",
        "    # Now line contains the first data value; this is also the smallest value\n",
        "    # found so far, because it is the only one we have seen.\n",
        "    smallest = line\n",
        "\n",
        "    for line in reader: \n",
        "        line = line.strip()\n",
        "        if line == '-':\n",
        "            continue\n",
        "\n",
        "    value = line\n",
        "    smallest = min(smallest, value)\n",
        "\n",
        "    return smallest\n",
        "\n",
        "input_file = open('/content/sample_data/duyphuong.txt', 'r')\n",
        "print(smallest_value_skip2(input_file))\n",
        "input_file.close()"
      ],
      "execution_count": 7,
      "outputs": [
        {
          "output_type": "stream",
          "name": "stdout",
          "text": [
            "21\n"
          ]
        }
      ]
    },
    {
      "cell_type": "markdown",
      "metadata": {
        "id": "AC_74KI8naXP"
      },
      "source": [
        "Bài 7:"
      ]
    },
    {
      "cell_type": "code",
      "metadata": {
        "colab": {
          "base_uri": "https://localhost:8080/"
        },
        "id": "BUVBUoREnbTH",
        "outputId": "e160c226-cc84-40b3-e590-083c4120fc4b"
      },
      "source": [
        "def read_molecule(reader):\n",
        "    content = []\n",
        "    for line in reader:\n",
        "        if not line.startswith('CMNT'):\n",
        "            if not line.isspace():\n",
        "                content.append(line.strip())\n",
        "    for line in content:\n",
        "        print(line)\n",
        "    \n",
        "input_file = open('/content/sample_data/duyphuong.txt', 'r')\n",
        "print(read_molecule(input_file))\n",
        "input_file.close()"
      ],
      "execution_count": 8,
      "outputs": [
        {
          "output_type": "stream",
          "name": "stdout",
          "text": [
            "Do Nguyen Duy Phuong\n",
            "TP.HCM\n",
            "CNTT\n",
            "187IT21104\n",
            "None\n"
          ]
        }
      ]
    }
  ]
}