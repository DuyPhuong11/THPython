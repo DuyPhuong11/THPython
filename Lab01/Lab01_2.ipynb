{
  "nbformat": 4,
  "nbformat_minor": 0,
  "metadata": {
    "colab": {
      "name": "Lab01_2.ipynb",
      "provenance": [],
      "authorship_tag": "ABX9TyOicCSSlmpQMCXsKeUi5KDw",
      "include_colab_link": true
    },
    "kernelspec": {
      "name": "python3",
      "display_name": "Python 3"
    },
    "language_info": {
      "name": "python"
    }
  },
  "cells": [
    {
      "cell_type": "markdown",
      "metadata": {
        "id": "view-in-github",
        "colab_type": "text"
      },
      "source": [
        "<a href=\"https://colab.research.google.com/github/DuyPhuong11/THPython/blob/main/Lab01/Lab01_2.ipynb\" target=\"_parent\"><img src=\"https://colab.research.google.com/assets/colab-badge.svg\" alt=\"Open In Colab\"/></a>"
      ]
    },
    {
      "cell_type": "markdown",
      "metadata": {
        "id": "Q0RNNJ_FayfA"
      },
      "source": [
        "Câu 1:\n"
      ]
    },
    {
      "cell_type": "code",
      "metadata": {
        "colab": {
          "base_uri": "https://localhost:8080/"
        },
        "id": "j25LjKgya0XY",
        "outputId": "894fb2fe-39af-4649-eef9-df0e54965ad3"
      },
      "source": [
        "import math\n",
        "print(math.floor(-2.8))\n",
        "print(abs(round(-4.3)))\n",
        "print(math.ceil(math.sin(34.5)))"
      ],
      "execution_count": 1,
      "outputs": [
        {
          "output_type": "stream",
          "name": "stdout",
          "text": [
            "-3\n",
            "4\n",
            "1\n"
          ]
        }
      ]
    }
  ]
}