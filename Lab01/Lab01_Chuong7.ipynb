{
  "nbformat": 4,
  "nbformat_minor": 0,
  "metadata": {
    "colab": {
      "name": "Lab01_Chuong7.ipynb",
      "provenance": [],
      "authorship_tag": "ABX9TyOaVmVIA+vy1bP3DD8z3aQb",
      "include_colab_link": true
    },
    "kernelspec": {
      "name": "python3",
      "display_name": "Python 3"
    },
    "language_info": {
      "name": "python"
    }
  },
  "cells": [
    {
      "cell_type": "markdown",
      "metadata": {
        "id": "view-in-github",
        "colab_type": "text"
      },
      "source": [
        "<a href=\"https://colab.research.google.com/github/DuyPhuong11/THPython/blob/main/Lab01/Lab01_Chuong7.ipynb\" target=\"_parent\"><img src=\"https://colab.research.google.com/assets/colab-badge.svg\" alt=\"Open In Colab\"/></a>"
      ]
    },
    {
      "cell_type": "markdown",
      "metadata": {
        "id": "9sfkK1_Sdxwh"
      },
      "source": [
        "Câu 1:"
      ]
    },
    {
      "cell_type": "code",
      "metadata": {
        "colab": {
          "base_uri": "https://localhost:8080/"
        },
        "id": "84X_UXr2dz__",
        "outputId": "da9946b5-65a9-46b2-a09c-dbeea8589741"
      },
      "source": [
        "#a\n",
        "print('hello'.upper())\n",
        "#b\n",
        "print('Happy Birthday!'.lower())\n",
        "#c\n",
        "print('WeeeEEEEeeeEEEEeee'.swapcase())\n",
        "#d\n",
        "print('ABC123'.isupper())\n",
        "#e\n",
        "print('aeiouAEIOU'.count('a'))\n",
        "#f\n",
        "print('hello'.endswith('o'))\n",
        "#g\n",
        "print('hello'.startswith('H'))\n",
        "#h\n",
        "print('Hello {0}'.format('Python'))\n",
        "#i\n",
        "print('Hello {0}! Hello {1}!'.format('Python', 'World'))"
      ],
      "execution_count": 1,
      "outputs": [
        {
          "output_type": "stream",
          "name": "stdout",
          "text": [
            "HELLO\n",
            "happy birthday!\n",
            "wEEEeeeeEEEeeeeEEE\n",
            "True\n",
            "1\n",
            "True\n",
            "False\n",
            "Hello Python\n",
            "Hello Python! Hello World!\n"
          ]
        }
      ]
    },
    {
      "cell_type": "markdown",
      "metadata": {
        "id": "rexdlTGYd5JI"
      },
      "source": [
        "Câu 2:"
      ]
    },
    {
      "cell_type": "code",
      "metadata": {
        "colab": {
          "base_uri": "https://localhost:8080/"
        },
        "id": "ocLtoIBwd6bY",
        "outputId": "e0531ffe-2aef-400e-ea12-797de42167a3"
      },
      "source": [
        "'tomato'.count('o')"
      ],
      "execution_count": 2,
      "outputs": [
        {
          "output_type": "execute_result",
          "data": {
            "text/plain": [
              "2"
            ]
          },
          "metadata": {},
          "execution_count": 2
        }
      ]
    },
    {
      "cell_type": "markdown",
      "metadata": {
        "id": "AlswS5PId9Z4"
      },
      "source": [
        "Câu 3:"
      ]
    },
    {
      "cell_type": "code",
      "metadata": {
        "colab": {
          "base_uri": "https://localhost:8080/"
        },
        "id": "KfgCyGSOd_YY",
        "outputId": "1a8ca296-c1fc-4c3c-ddf8-5820e8f11444"
      },
      "source": [
        "'tomato'.find('o')"
      ],
      "execution_count": 3,
      "outputs": [
        {
          "output_type": "execute_result",
          "data": {
            "text/plain": [
              "1"
            ]
          },
          "metadata": {},
          "execution_count": 3
        }
      ]
    },
    {
      "cell_type": "markdown",
      "metadata": {
        "id": "KYroHjvLeBtI"
      },
      "source": [
        "Câu 4:"
      ]
    },
    {
      "cell_type": "code",
      "metadata": {
        "colab": {
          "base_uri": "https://localhost:8080/"
        },
        "id": "nNsSQoBweDoo",
        "outputId": "4f4fb24f-fffc-4b20-8470-cf191c6162fa"
      },
      "source": [
        "'tomato'.find('o', 'tomato'.find('o') + 1)"
      ],
      "execution_count": 4,
      "outputs": [
        {
          "output_type": "execute_result",
          "data": {
            "text/plain": [
              "5"
            ]
          },
          "metadata": {},
          "execution_count": 4
        }
      ]
    },
    {
      "cell_type": "markdown",
      "metadata": {
        "id": "B-GazsPpeGHR"
      },
      "source": [
        "Câu 5:"
      ]
    },
    {
      "cell_type": "code",
      "metadata": {
        "colab": {
          "base_uri": "https://localhost:8080/"
        },
        "id": "ep3pqA9-eG3v",
        "outputId": "cd5d78a4-b9a4-4657-991e-3b74b2fbab43"
      },
      "source": [
        "'avocado'.find('o', 'avocado'.find('o') + 1)"
      ],
      "execution_count": 5,
      "outputs": [
        {
          "output_type": "execute_result",
          "data": {
            "text/plain": [
              "6"
            ]
          },
          "metadata": {},
          "execution_count": 5
        }
      ]
    },
    {
      "cell_type": "markdown",
      "metadata": {
        "id": "NjCRoCz1eIfP"
      },
      "source": [
        "Câu 6:"
      ]
    },
    {
      "cell_type": "code",
      "metadata": {
        "colab": {
          "base_uri": "https://localhost:8080/",
          "height": 35
        },
        "id": "OQPA2aypeJYq",
        "outputId": "117ec646-60b7-43f0-d7ae-2d1e222fc7b2"
      },
      "source": [
        "'runner'.replace('n', 'b')"
      ],
      "execution_count": 6,
      "outputs": [
        {
          "output_type": "execute_result",
          "data": {
            "application/vnd.google.colaboratory.intrinsic+json": {
              "type": "string"
            },
            "text/plain": [
              "'rubber'"
            ]
          },
          "metadata": {},
          "execution_count": 6
        }
      ]
    },
    {
      "cell_type": "markdown",
      "metadata": {
        "id": "9Hq8kKxzeMPx"
      },
      "source": [
        "Câu 7:"
      ]
    },
    {
      "cell_type": "code",
      "metadata": {
        "id": "UVj_YjxueT7A"
      },
      "source": [
        "strip"
      ],
      "execution_count": null,
      "outputs": []
    },
    {
      "cell_type": "markdown",
      "metadata": {
        "id": "NbDuV3BxeUg5"
      },
      "source": [
        "Câu 8:"
      ]
    },
    {
      "cell_type": "code",
      "metadata": {
        "id": "54OjeMaweepQ"
      },
      "source": [
        "#a. \n",
        "fruit.count('p')\n",
        "fruit.find('p', 3)\n",
        "#b. \n",
        "fruit.upper()\n",
        "'PINEAPPLE'.swapcase()\n",
        "fruit.count('pineapple')\n",
        "#c. \n",
        "fruit.swapcase()\n",
        "fruit.lower()\n",
        "fruit.replace('PINEAPPLE', 'pineapple')"
      ],
      "execution_count": null,
      "outputs": []
    },
    {
      "cell_type": "markdown",
      "metadata": {
        "id": "Bgar0s_qefTp"
      },
      "source": [
        "Câu 9:"
      ]
    },
    {
      "cell_type": "code",
      "metadata": {
        "id": "UfxdkHryegRD"
      },
      "source": [
        "'I love {0}!'.format(season)"
      ],
      "execution_count": null,
      "outputs": []
    },
    {
      "cell_type": "markdown",
      "metadata": {
        "id": "MKW7jISoeiOC"
      },
      "source": [
        "Câu 10:"
      ]
    },
    {
      "cell_type": "code",
      "metadata": {
        "id": "1kcMANYDei-A"
      },
      "source": [
        "'The sides have lengths {0}, {1}, and {2}.'.format(side1, side2, side3"
      ],
      "execution_count": null,
      "outputs": []
    },
    {
      "cell_type": "markdown",
      "metadata": {
        "id": "ijxmRT7Cek-R"
      },
      "source": [
        "Câu 11:"
      ]
    },
    {
      "cell_type": "code",
      "metadata": {
        "id": "dRff_LUoelxY"
      },
      "source": [
        "#a.\n",
        "'boolean'.capitalize()\n",
        "#b.\n",
        "'CO2 H2O'.find('2')\n",
        "#c.\n",
        "'CO2 H2O'.find('2', 'CO2 H2O'.find('2') + 1)\n",
        "#d.\n",
        "'Boolean'[0].islower()\n",
        "#e.\n",
        "\"MoNDaY\".lower().capitalize()\n",
        "#f.\n",
        "\" Monday\".lstrip()"
      ],
      "execution_count": null,
      "outputs": []
    }
  ]
}