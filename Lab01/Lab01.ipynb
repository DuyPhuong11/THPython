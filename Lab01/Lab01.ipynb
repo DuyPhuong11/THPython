{
  "nbformat": 4,
  "nbformat_minor": 0,
  "metadata": {
    "colab": {
      "name": "Lab01.ipynb",
      "provenance": [],
      "authorship_tag": "ABX9TyNAyjMbutEOlJBwa5fFv19U",
      "include_colab_link": true
    },
    "kernelspec": {
      "name": "python3",
      "display_name": "Python 3"
    },
    "language_info": {
      "name": "python"
    }
  },
  "cells": [
    {
      "cell_type": "markdown",
      "metadata": {
        "id": "view-in-github",
        "colab_type": "text"
      },
      "source": [
        "<a href=\"https://colab.research.google.com/github/DuyPhuong11/THPython/blob/main/Lab01/Lab01.ipynb\" target=\"_parent\"><img src=\"https://colab.research.google.com/assets/colab-badge.svg\" alt=\"Open In Colab\"/></a>"
      ]
    },
    {
      "cell_type": "markdown",
      "metadata": {
        "id": "zTeESbDdWleK"
      },
      "source": [
        "Bài 1"
      ]
    },
    {
      "cell_type": "code",
      "metadata": {
        "id": "J0f-BH9NWm9a",
        "colab": {
          "base_uri": "https://localhost:8080/"
        },
        "outputId": "095b8476-7816-463d-a077-6b11518ca7af"
      },
      "source": [
        "min(2,4,5)"
      ],
      "execution_count": null,
      "outputs": [
        {
          "output_type": "execute_result",
          "data": {
            "text/plain": [
              "2"
            ]
          },
          "metadata": {},
          "execution_count": 1
        }
      ]
    },
    {
      "cell_type": "markdown",
      "metadata": {
        "id": "eCAnB_8rXmoQ"
      },
      "source": [
        "Bài 2\n"
      ]
    },
    {
      "cell_type": "code",
      "metadata": {
        "id": "GD6v_PUZXpYL",
        "colab": {
          "base_uri": "https://localhost:8080/"
        },
        "outputId": "e539bef1-4f7b-4093-b500-7485e6834bbd"
      },
      "source": [
        "max(2, -3, 4, 7, -5)"
      ],
      "execution_count": null,
      "outputs": [
        {
          "output_type": "execute_result",
          "data": {
            "text/plain": [
              "7"
            ]
          },
          "metadata": {},
          "execution_count": 2
        }
      ]
    },
    {
      "cell_type": "code",
      "metadata": {
        "id": "9F9X1Sl-aE1L",
        "colab": {
          "base_uri": "https://localhost:8080/"
        },
        "outputId": "2f876df2-486c-4a46-b7f4-14b1ce817ccd"
      },
      "source": [
        "min (2,4,-8)"
      ],
      "execution_count": null,
      "outputs": [
        {
          "output_type": "execute_result",
          "data": {
            "text/plain": [
              "-8"
            ]
          },
          "metadata": {},
          "execution_count": 3
        }
      ]
    },
    {
      "cell_type": "code",
      "metadata": {
        "id": "nWVJTcs7aIpJ"
      },
      "source": [
        "def triple(num):\n",
        "  \"\"\" (number) -> number\n",
        "  Return num tripled.\n",
        "  >>> triple(3)\n",
        "  9\n",
        "  \"\"\"\n",
        "  return num * 3"
      ],
      "execution_count": null,
      "outputs": []
    },
    {
      "cell_type": "code",
      "metadata": {
        "id": "4tuKsXYgasfZ",
        "colab": {
          "base_uri": "https://localhost:8080/"
        },
        "outputId": "d4ed6a67-b8cd-44dd-cfe6-65f29d1afee5"
      },
      "source": [
        "min(max(3,4),abs(-5))"
      ],
      "execution_count": null,
      "outputs": [
        {
          "output_type": "execute_result",
          "data": {
            "text/plain": [
              "4"
            ]
          },
          "metadata": {},
          "execution_count": 5
        }
      ]
    },
    {
      "cell_type": "code",
      "metadata": {
        "id": "Fm1AJqzQa1EL",
        "colab": {
          "base_uri": "https://localhost:8080/"
        },
        "outputId": "8532cef3-5b0d-4975-c918-ad083a41986e"
      },
      "source": [
        "abs(min(4,6, max(2,8)))"
      ],
      "execution_count": null,
      "outputs": [
        {
          "output_type": "execute_result",
          "data": {
            "text/plain": [
              "4"
            ]
          },
          "metadata": {},
          "execution_count": 6
        }
      ]
    },
    {
      "cell_type": "code",
      "metadata": {
        "id": "LHoOV60xa7io",
        "colab": {
          "base_uri": "https://localhost:8080/"
        },
        "outputId": "a0ecc2b0-4e84-42e1-e271-cf8ab0dd9793"
      },
      "source": [
        "round(max(5.572,3.258),abs(-2))"
      ],
      "execution_count": null,
      "outputs": [
        {
          "output_type": "execute_result",
          "data": {
            "text/plain": [
              "5.57"
            ]
          },
          "metadata": {},
          "execution_count": 7
        }
      ]
    },
    {
      "cell_type": "code",
      "metadata": {
        "id": "jhRRPFItUidc",
        "outputId": "da216985-c096-448b-b227-f31af4bfaf8e",
        "colab": {
          "base_uri": "https://localhost:8080/"
        }
      },
      "source": [
        "round(max(5.572, 3.258), abs(-2))"
      ],
      "execution_count": 1,
      "outputs": [
        {
          "output_type": "execute_result",
          "data": {
            "text/plain": [
              "5.57"
            ]
          },
          "metadata": {},
          "execution_count": 1
        }
      ]
    },
    {
      "cell_type": "code",
      "metadata": {
        "id": "vmQvPbCKUuzS",
        "outputId": "c8de3c4a-09f2-478d-a76e-9b2d3cfc2723",
        "colab": {
          "base_uri": "https://localhost:8080/"
        }
      },
      "source": [
        "\n",
        "def triple(num): \n",
        "  return num * 3\n",
        "triple(3)\n"
      ],
      "execution_count": 3,
      "outputs": [
        {
          "output_type": "execute_result",
          "data": {
            "text/plain": [
              "9"
            ]
          },
          "metadata": {},
          "execution_count": 3
        }
      ]
    },
    {
      "cell_type": "code",
      "metadata": {
        "id": "vbvr4u_xUzR5",
        "outputId": "7dc0053e-604b-4916-e882-a93e1e92c821",
        "colab": {
          "base_uri": "https://localhost:8080/"
        }
      },
      "source": [
        "def absolute_difference(number1, number2):\n",
        "  return abs(number1 - number2)\n",
        "absolute_difference(3, 7)"
      ],
      "execution_count": 4,
      "outputs": [
        {
          "output_type": "execute_result",
          "data": {
            "text/plain": [
              "4"
            ]
          },
          "metadata": {},
          "execution_count": 4
        }
      ]
    },
    {
      "cell_type": "code",
      "metadata": {
        "id": "0SiKlR5MU18p",
        "outputId": "5f082eef-8b64-4b0b-f612-ef9608298ca1",
        "colab": {
          "base_uri": "https://localhost:8080/"
        }
      },
      "source": [
        "def km_to_miles(km):\n",
        "  return km / 1.6\n",
        "km_to_miles(5)\n"
      ],
      "execution_count": 5,
      "outputs": [
        {
          "output_type": "execute_result",
          "data": {
            "text/plain": [
              "3.125"
            ]
          },
          "metadata": {},
          "execution_count": 5
        }
      ]
    },
    {
      "cell_type": "code",
      "metadata": {
        "id": "EOeCI4TfU4VB",
        "outputId": "127d2f87-d56f-4a9f-f250-a8cdfd15f673",
        "colab": {
          "base_uri": "https://localhost:8080/"
        }
      },
      "source": [
        "def average_grade(grade1, grade2, grade3):\n",
        "  return (grade1 + grade2 + grade3) / 3\n",
        "average_grade(80, 95, 90)"
      ],
      "execution_count": 6,
      "outputs": [
        {
          "output_type": "execute_result",
          "data": {
            "text/plain": [
              "88.33333333333333"
            ]
          },
          "metadata": {},
          "execution_count": 6
        }
      ]
    },
    {
      "cell_type": "code",
      "metadata": {
        "id": "90yNbjFWU64b",
        "outputId": "af65f538-b5ea-413d-c906-2db9cd4a857a",
        "colab": {
          "base_uri": "https://localhost:8080/"
        }
      },
      "source": [
        "def weeks_elapsed(day1, day2):\n",
        "  return int(abs (day1 - day2)/7)\n",
        "print(weeks_elapsed(3, 20))\n",
        "print(weeks_elapsed(20, 3))\n",
        "print(weeks_elapsed(8, 5))\n",
        "print(weeks_elapsed(40, 61))"
      ],
      "execution_count": 7,
      "outputs": [
        {
          "output_type": "stream",
          "name": "stdout",
          "text": [
            "2\n",
            "2\n",
            "0\n",
            "3\n"
          ]
        }
      ]
    },
    {
      "cell_type": "code",
      "metadata": {
        "id": "44exyS-3U9Nq",
        "outputId": "d01c1587-f526-439e-817a-13407cbe1e5b",
        "colab": {
          "base_uri": "https://localhost:8080/"
        }
      },
      "source": [
        "\n",
        "def top_three_avg(grade1, grade2, grade3, grade4):\n",
        "  total = grade1 + grade2 + grade3 + grade4\n",
        "  top_three = total - min(grade1, grade2, grade3, grade4)\n",
        "  return top_three / 3\n",
        "  return max(average_grade(grade1, grade2, grade3),\n",
        "  average_grade(grade1, grade2, grade4),\n",
        "  average_grade(grade1, grade3, grade4),\n",
        "  average_grade(grade2, grade3, grade4))\n",
        "\n",
        "  return (grade1 + grade2 + grade3) / 3\n",
        "top_three_avg(50, 60, 70, 80)\n"
      ],
      "execution_count": 8,
      "outputs": [
        {
          "output_type": "execute_result",
          "data": {
            "text/plain": [
              "70.0"
            ]
          },
          "metadata": {},
          "execution_count": 8
        }
      ]
    },
    {
      "cell_type": "code",
      "metadata": {
        "id": "MUYZSF8pU-3B",
        "outputId": "d9d9e0b3-a7c9-46cd-a58e-f9456fc1a78f",
        "colab": {
          "base_uri": "https://localhost:8080/"
        }
      },
      "source": [
        "def square(num):\n",
        "  return num**2\n",
        "square(3)"
      ],
      "execution_count": 9,
      "outputs": [
        {
          "output_type": "execute_result",
          "data": {
            "text/plain": [
              "9"
            ]
          },
          "metadata": {},
          "execution_count": 9
        }
      ]
    }
  ]
}